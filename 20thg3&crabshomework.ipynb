{
  "cells": [
    {
      "cell_type": "code",
      "execution_count": 1,
      "metadata": {
        "colab": {
          "base_uri": "https://localhost:8080/"
        },
        "id": "CDy0o_K7vt2i",
        "outputId": "7e8907ab-ba1f-4aff-9fc4-668e89ac459e"
      },
      "outputs": [
        {
          "data": {
            "text/plain": [
              "1.0"
            ]
          },
          "execution_count": 1,
          "metadata": {},
          "output_type": "execute_result"
        }
      ],
      "source": [
        "from sklearn.linear_model import Perceptron\n",
        "\n",
        "x = [[0,0],[0,1],[1,0],[1,1]]\n",
        "t = [0,1,1,1]\n",
        "\n",
        "model = Perceptron()\n",
        "model.fit(x,t)\n",
        "model.score(x,t)\n",
        "#   x1   x2   t\n",
        "#    0   0    0\n",
        "#    0   1    1\n",
        "#    1   0    1\n",
        "#    1   1    1\n"
      ]
    },
    {
      "cell_type": "code",
      "execution_count": 2,
      "metadata": {
        "colab": {
          "base_uri": "https://localhost:8080/"
        },
        "id": "JWAII7RCv01C",
        "outputId": "a55b1cf7-2d08-4caf-e16a-0c163f62d20c"
      },
      "outputs": [
        {
          "data": {
            "text/plain": [
              "1.0"
            ]
          },
          "execution_count": 2,
          "metadata": {},
          "output_type": "execute_result"
        }
      ],
      "source": [
        "x1 = [[0.5,0.5],[-0.5,-0.5],[10,2.3],[-1,-2]]\n",
        "y1 = model.predict(x1)\n",
        "model.score(x1,y1)\n"
      ]
    },
    {
      "cell_type": "code",
      "execution_count": 3,
      "metadata": {
        "colab": {
          "base_uri": "https://localhost:8080/"
        },
        "id": "4OGn6vT7whgV",
        "outputId": "55cec907-9477-4c38-cb47-7fb2debb53e7"
      },
      "outputs": [
        {
          "name": "stdout",
          "output_type": "stream",
          "text": [
            "[1 0 1 0]\n"
          ]
        }
      ],
      "source": [
        "x1 = [[0.5,0.5],[-0.5,-0.5],[10,2.3],[-1,-2]]\n",
        "y1 = model.predict(x1)\n",
        "model.score(x1,y1)\n",
        "print(y1)"
      ]
    },
    {
      "cell_type": "code",
      "execution_count": 4,
      "metadata": {
        "colab": {
          "base_uri": "https://localhost:8080/"
        },
        "id": "a4e-KgqHxxcw",
        "outputId": "d7468897-f384-478b-93ba-ed92a2e8ce0a"
      },
      "outputs": [
        {
          "name": "stdout",
          "output_type": "stream",
          "text": [
            "[1 0 0 0]\n"
          ]
        }
      ],
      "source": [
        "x1 = [[0.5,0.5],[0.5,0],[0,0.5],[0.4,0]]\n",
        "y1 = model.predict(x1)\n",
        "model.score(x1,y1)\n",
        "print(y1)"
      ]
    },
    {
      "cell_type": "code",
      "execution_count": 5,
      "metadata": {
        "colab": {
          "base_uri": "https://localhost:8080/"
        },
        "id": "J1x9pVpky2P0",
        "outputId": "91976728-f251-4aad-f486-6fdfd36b273c"
      },
      "outputs": [
        {
          "data": {
            "text/plain": [
              "1.0"
            ]
          },
          "execution_count": 5,
          "metadata": {},
          "output_type": "execute_result"
        }
      ],
      "source": [
        "from sklearn.linear_model import Perceptron\n",
        "\n",
        "x = [[-0.5,-0.5],[-0.5,0.5],[0.5,-0.5],[-0.1,1]]\n",
        "t = [1,1,0,0]\n",
        "model = Perceptron()\n",
        "model.fit(x,t)\n",
        "model.score(x,t)\n"
      ]
    },
    {
      "cell_type": "code",
      "execution_count": 6,
      "metadata": {
        "colab": {
          "base_uri": "https://localhost:8080/"
        },
        "id": "NmP5t5HozNQh",
        "outputId": "1550bb70-f9a5-4bec-81af-f5b82c5701b8"
      },
      "outputs": [
        {
          "name": "stdout",
          "output_type": "stream",
          "text": [
            "[0 1 0 0]\n"
          ]
        }
      ],
      "source": [
        "x1 = [[2,2],[-2,-2],[0.5,-0.5],[-0.1,1]]\n",
        "y1 = model.predict(x1)\n",
        "model.score(x1,y1)\n",
        "print(y1)"
      ]
    },
    {
      "cell_type": "code",
      "execution_count": 7,
      "metadata": {
        "id": "zoJI4Gmt2QBW"
      },
      "outputs": [],
      "source": [
        "from sklearn.linear_model import Perceptron\n",
        "from sklearn import datasets \n",
        "from sklearn.model_selection import train_test_split\n",
        "#du lieu da train ko dc dung de test\n",
        "\n",
        "from sklearn.metrics import accuracy_score\n",
        "from sklearn.preprocessing import StandardScaler  #scale du lieu  de xu  li (du lieu ko deu, vd cot y gia tri tu 1 toi 10, cot x gtri hang trieu)"
      ]
    },
    {
      "cell_type": "code",
      "execution_count": 8,
      "metadata": {
        "colab": {
          "base_uri": "https://localhost:8080/"
        },
        "id": "zNQS5gIV39Bk",
        "outputId": "c5368f84-0c1c-4fe7-ea72-73312ce65e31"
      },
      "outputs": [
        {
          "name": "stdout",
          "output_type": "stream",
          "text": [
            "[[5.1 3.5 1.4 0.2]\n",
            " [4.9 3.  1.4 0.2]\n",
            " [4.7 3.2 1.3 0.2]\n",
            " [4.6 3.1 1.5 0.2]\n",
            " [5.  3.6 1.4 0.2]]\n",
            "[0 0 0 0 0]\n"
          ]
        }
      ],
      "source": [
        "iris = datasets.load_iris()\n",
        "X = iris.data\n",
        "y = iris.target\n",
        "print(X[:5])\n",
        "print(y[:5])"
      ]
    },
    {
      "cell_type": "code",
      "execution_count": null,
      "metadata": {
        "id": "7JCVCoaX49V8"
      },
      "outputs": [],
      "source": [
        "#ONE HOT ENCODING"
      ]
    },
    {
      "cell_type": "code",
      "execution_count": 11,
      "metadata": {
        "colab": {
          "base_uri": "https://localhost:8080/"
        },
        "id": "kwic_RAi7C4O",
        "outputId": "71f4aeb7-f26c-42f9-882b-8080be23ff6d"
      },
      "outputs": [
        {
          "name": "stdout",
          "output_type": "stream",
          "text": [
            "[[-0.01209799 -0.82944625  0.22925739 -0.22790376]\n",
            " [-0.7742716   0.72180818 -1.30363106 -1.25164257]\n",
            " [ 0.87710455 -0.16462292  1.19440938  1.30770446]\n",
            " [-1.15535841 -0.16462292 -1.30363106 -1.25164257]\n",
            " [ 1.13116242  0.50020041  1.13763573  1.17973711]] [[5.8 2.7 4.1 1. ]\n",
            " [5.2 3.4 1.4 0.2]\n",
            " [6.5 3.  5.8 2.2]\n",
            " [4.9 3.  1.4 0.2]\n",
            " [6.7 3.3 5.7 2.1]]\n",
            "[0 0 0 0 0]\n",
            "[2 1 0 0 1 0 1 1 0 1 2 1 2 2 2 2 2 0 2 2 2 0 0 2 2 2 2 2 0 0 2 2 2 2 2 2 1\n",
            " 0 0 1 1 1 1 0 2]\n",
            "[2 1 0 0 1 0 1 1 0 1 2 1 2 1 2 2 1 0 1 1 2 0 0 2 2 2 1 1 0 0 1 2 1 2 2 2 0\n",
            " 0 0 1 1 1 1 0 2]\n",
            "DO CHINH XAC MO HINH: 0.8\n"
          ]
        }
      ],
      "source": [
        "X_train,X_test,y_train,y_test = train_test_split(X,y,test_size=0.3) #30% test, 70 % train\n",
        "sc = StandardScaler()\n",
        "sc.fit(X_train)\n",
        "X_train_std = sc.transform(X_train)\n",
        "X_test_std = sc.transform(X_test)\n",
        "\n",
        "#scale du lieu X\n",
        "print(X_train_std[:5],X_train[:5])\n",
        "print(y[:5])\n",
        "#xuat lai du lieu ss vs ban dau\n",
        "\n",
        "\n",
        "\n",
        "model = Perceptron(max_iter=40, eta0= 0.1, random_state=0)\n",
        "# max_iter :so lan hoc\n",
        "# eta0 : Toc do hoc [tu 0 den 1].\n",
        "# random_state=0 trang thai  gtri ngau nhien\n",
        "model.fit(X_train_std,y_train)\n",
        "y_pred = model.predict(X_test_std)\n",
        "print(y_pred)\n",
        "print(y_test)\n",
        "print('DO CHINH XAC MO HINH:',accuracy_score(y_test,y_pred))\n",
        "# moi lan train se co gtri khac nhau \n",
        "# chon lan train co do chinh xac cao nhat"
      ]
    },
    {
      "cell_type": "code",
      "execution_count": 12,
      "metadata": {
        "colab": {
          "base_uri": "https://localhost:8080/"
        },
        "id": "JxG5uhPn-Fg7",
        "outputId": "d3ff4051-b83a-45aa-fc6e-e8e687732612"
      },
      "outputs": [
        {
          "name": "stdout",
          "output_type": "stream",
          "text": [
            "[[ 2.19620261  0.01432989  1.24955583  1.39329696]\n",
            " [ 0.62171912  0.51587615  0.78858662  1.39329696]\n",
            " [-1.92167728  0.01432989 -1.63150175 -1.55947   ]\n",
            " [-0.95276437 -1.23953575 -0.53669987 -0.2173032 ]\n",
            " [-0.34719379 -1.23953575 -0.0181095  -0.2173032 ]] [[7.7 3.  6.1 2.3]\n",
            " [6.4 3.2 5.3 2.3]\n",
            " [4.3 3.  1.1 0.1]\n",
            " [5.1 2.5 3.  1.1]\n",
            " [5.6 2.5 3.9 1.1]]\n",
            "[0 0 0 0 0]\n",
            "[0 1 0 1 1 2 2 2 0 1 2 1 2 0 0 1 2 1 0 2 2 1 2 2 0 2 2 0 1 0 0 0 1 1 1 0 0\n",
            " 0 0 0 0 1 0 0 0]\n",
            "[0 2 0 1 1 2 2 2 0 1 2 1 2 0 0 1 2 1 0 2 2 1 2 2 0 2 2 0 1 0 0 0 1 1 1 0 0\n",
            " 0 0 0 0 1 0 0 0]\n",
            "DO CHINH XAC MO HINH: 0.9777777777777777\n"
          ]
        }
      ],
      "source": [
        "X_train,X_test,y_train,y_test = train_test_split(X,y,test_size=0.3) #30% test, 70 % train\n",
        "sc = StandardScaler()\n",
        "sc.fit(X_train)\n",
        "X_train_std = sc.transform(X_train)\n",
        "X_test_std = sc.transform(X_test)\n",
        "\n",
        "#scale du lieu X\n",
        "print(X_train_std[:5],X_train[:5])\n",
        "print(y[:5])\n",
        "#xuat lai du lieu ss vs ban dau\n",
        "model = Perceptron(max_iter=1000, eta0= 0.5, random_state=0)\n",
        "model.fit(X_train_std,y_train)\n",
        "y_pred = model.predict(X_test_std)\n",
        "print(y_pred)\n",
        "print(y_test)\n",
        "print('DO CHINH XAC MO HINH:',accuracy_score(y_test,y_pred))"
      ]
    },
    {
      "cell_type": "code",
      "execution_count": 13,
      "metadata": {
        "colab": {
          "base_uri": "https://localhost:8080/"
        },
        "id": "AqRiq82X_Rd9",
        "outputId": "e746c64b-8f1b-47d6-b73d-945d2de5d399"
      },
      "outputs": [
        {
          "name": "stdout",
          "output_type": "stream",
          "text": [
            "0     0\n",
            "1     0\n",
            "2     0\n",
            "3     0\n",
            "4     0\n",
            "5     0\n",
            "6     0\n",
            "7     0\n",
            "8     0\n",
            "9     0\n",
            "10    0\n",
            "11    0\n",
            "12    0\n",
            "13    0\n",
            "14    0\n",
            "15    0\n",
            "16    0\n",
            "17    0\n",
            "18    0\n",
            "19    0\n",
            "Name: speies, dtype: int64\n",
            "0     1\n",
            "1     1\n",
            "2     1\n",
            "3     1\n",
            "4     1\n",
            "5     1\n",
            "6     1\n",
            "7     1\n",
            "8     1\n",
            "9     1\n",
            "10    1\n",
            "11    1\n",
            "12    1\n",
            "13    1\n",
            "14    1\n",
            "15    1\n",
            "16    1\n",
            "17    1\n",
            "18    1\n",
            "19    1\n",
            "Name: sex, dtype: int64\n"
          ]
        }
      ],
      "source": [
        "import numpy as np\n",
        "import pandas as pd \n",
        "import matplotlib.pyplot as plt\n",
        "\n",
        "\n",
        "url = 'crabs.csv'\n",
        "crabs = pd.read_csv(url)\n",
        "\n",
        "data=crabs.replace([\"F\",\"M\",\"B\",\"O\"],[0,1,0,1])\n",
        "data.head(150)\n",
        "X = data.sex\n",
        "y = data.speies\n",
        "print(y[:20])\n",
        "print(X[:20])"
      ]
    },
    {
      "cell_type": "code",
      "execution_count": 16,
      "metadata": {
        "colab": {
          "base_uri": "https://localhost:8080/"
        },
        "id": "hlEkN8iCJdit",
        "outputId": "44f2da3b-913a-4e19-9c52-c6b28d4647c9"
      },
      "outputs": [
        {
          "name": "stdout",
          "output_type": "stream",
          "text": [
            "     speies  sex  index  fontallip  rearwidth  length  width  depth\n",
            "0         0    0      1        8.1        6.7    16.1   19.0    7.0\n",
            "1         0    0      2        8.8        7.7    18.1   20.8    7.4\n",
            "2         0    0      3        9.2        7.8    19.0   22.4    7.7\n",
            "3         0    0      4        9.6        7.9    20.1   23.1    8.2\n",
            "4         0    0      5        9.8        8.0    20.3   23.0    8.2\n",
            "..      ...  ...    ...        ...        ...     ...    ...    ...\n",
            "195       1    1     46       21.4       18.0    41.2   46.2   18.7\n",
            "196       1    1     47       21.7       17.1    41.7   47.2   19.6\n",
            "197       1    1     48       21.9       17.2    42.6   47.4   19.5\n",
            "198       1    1     49       22.5       17.2    43.0   48.7   19.8\n",
            "199       1    1     50       23.1       20.2    46.2   52.5   21.1\n",
            "\n",
            "[200 rows x 8 columns]\n"
          ]
        }
      ],
      "source": [
        "url = 'crabs.csv'\n",
        "dataFrame = pd.read_csv(url)\n",
        "dataFrame_total = dataFrame.replace(['B','M','O','F'], [0,0,1,1])\n",
        "print(dataFrame_total)"
      ]
    },
    {
      "cell_type": "code",
      "execution_count": 14,
      "metadata": {
        "id": "jJ-5LdYq_08L"
      },
      "outputs": [],
      "source": [
        "from sklearn.linear_model import Perceptron\n",
        "from sklearn import datasets \n",
        "from sklearn.model_selection import train_test_split\n",
        "\n",
        "\n",
        "from sklearn.metrics import accuracy_score\n",
        "from sklearn.preprocessing import StandardScaler\n"
      ]
    },
    {
      "cell_type": "code",
      "execution_count": 17,
      "metadata": {
        "colab": {
          "base_uri": "https://localhost:8080/"
        },
        "id": "mP7chnZGJpHb",
        "outputId": "467b8e52-ba86-46ce-884d-28315d5d7d71"
      },
      "outputs": [
        {
          "name": "stdout",
          "output_type": "stream",
          "text": [
            "   sex  index  fontallip  rearwidth  length  width  depth\n",
            "0    0      1        8.1        6.7    16.1   19.0    7.0\n",
            "1    0      2        8.8        7.7    18.1   20.8    7.4\n",
            "2    0      3        9.2        7.8    19.0   22.4    7.7\n",
            "3    0      4        9.6        7.9    20.1   23.1    8.2\n",
            "4    0      5        9.8        8.0    20.3   23.0    8.2\n",
            "---------------------------------------------------------\n",
            "0    0\n",
            "1    0\n",
            "2    0\n",
            "3    0\n",
            "4    0\n",
            "Name: speies, dtype: int64\n"
          ]
        }
      ],
      "source": [
        "\n",
        "x = dataFrame_total.drop('speies', axis = 1)\n",
        "y = dataFrame_total.speies\n",
        "print(x[:5])\n",
        "print(\"---------------------------------------------------------\")\n",
        "print(y[:5])"
      ]
    },
    {
      "cell_type": "code",
      "execution_count": 21,
      "metadata": {
        "colab": {
          "base_uri": "https://localhost:8080/"
        },
        "id": "O1tGbze2Jrtb",
        "outputId": "8aa576d8-90a7-4825-aeda-85851b18cfa5"
      },
      "outputs": [
        {
          "name": "stdout",
          "output_type": "stream",
          "text": [
            "[[-1.02899151 -0.05581184  0.38234441 -0.13988391  0.35389524  0.26188394\n",
            "   0.42924823]\n",
            " [ 0.97182532 -1.59063746 -0.96333704 -0.57245664 -1.11150949 -1.16915517\n",
            "  -0.84806937]\n",
            " [ 0.97182532 -1.10228385 -1.44180156 -1.24097814 -1.47786067 -1.48716386\n",
            "  -1.85167605]\n",
            " [ 0.97182532 -1.52087266 -1.89036205 -1.87017484 -1.90282804 -1.92442581\n",
            "  -1.97332535]\n",
            " [-1.02899151  0.36277696  0.6514807   0.17471444  0.60301405  0.57989263\n",
            "   0.85502076]]      sex  index  fontallip  rearwidth  length  width  depth\n",
            "125    0     26       17.1       12.6    35.0   38.9   15.7\n",
            "153    1      4       12.6       11.5    25.0   28.1   11.5\n",
            "60     1     11       11.0        9.8    22.5   25.7    8.2\n",
            "54     1      5        9.5        8.2    19.6   22.4    7.8\n",
            "131    0     32       18.0       13.4    36.7   41.3   17.1\n",
            "0    0\n",
            "1    0\n",
            "2    0\n",
            "3    0\n",
            "4    0\n",
            "Name: speies, dtype: int64\n"
          ]
        }
      ],
      "source": [
        "\n",
        "x_train,x_test,y_train,y_test = train_test_split(x,y,test_size = 0.3)\n",
        "sc = StandardScaler()\n",
        "sc.fit(x_train)\n",
        "x_train_std = sc.transform(x_train)\n",
        "x_test_std = sc.transform(x_test)\n",
        "print(x_train_std[:5], x_train[:5])\n",
        "print(y[:5])"
      ]
    },
    {
      "cell_type": "code",
      "execution_count": 22,
      "metadata": {
        "colab": {
          "base_uri": "https://localhost:8080/"
        },
        "id": "5YD9NGvbJvO1",
        "outputId": "8e1040e9-2cf7-4a32-cc6d-a42d6720b56f"
      },
      "outputs": [
        {
          "name": "stdout",
          "output_type": "stream",
          "text": [
            "[0 0 1 0 0]\n",
            "51     0\n",
            "23     0\n",
            "179    1\n",
            "3      0\n",
            "61     0\n",
            "Name: speies, dtype: int64\n",
            "Độ chính xác của mô hình:  1.0\n"
          ]
        }
      ],
      "source": [
        "\n",
        "model = Perceptron(max_iter=300, eta0=0.6,random_state=0) #maxinter : so lan hoc, eta0 : toc do hoc, randomstate : gia tri ngau nhien cua he thong\n",
        "model.fit(x_train_std,y_train)\n",
        "y_pred = model.predict(x_test_std)\n",
        "print(y_pred[:5])\n",
        "print(y_test[:5])\n",
        "print(\"Độ chính xác của mô hình: \", accuracy_score(y_test,y_pred))\n",
        "     "
      ]
    }
  ],
  "metadata": {
    "colab": {
      "provenance": []
    },
    "kernelspec": {
      "display_name": "Python 3",
      "language": "python",
      "name": "python3"
    },
    "language_info": {
      "name": "python",
      "version": "3.10.10"
    },
    "vscode": {
      "interpreter": {
        "hash": "a42ccb73e7d9bfdf27e036f1d2b8b681e55fc0743cc5586bc2474d4a60f4b886"
      }
    }
  },
  "nbformat": 4,
  "nbformat_minor": 0
}
